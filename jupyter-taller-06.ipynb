{
 "cells": [
  {
   "cell_type": "code",
   "execution_count": 2,
   "id": "545207b2",
   "metadata": {},
   "outputs": [],
   "source": [
    "import pandas as pd\n",
    "from sklearn.linear_model import LinearRegression\n",
    "import numpy as np"
   ]
  },
  {
   "cell_type": "code",
   "execution_count": 3,
   "id": "ad9a98e7",
   "metadata": {},
   "outputs": [
    {
     "name": "stdout",
     "output_type": "stream",
     "text": [
      "       carat        cut color clarity  depth  table  price     x     y     z\n",
      "0       0.23      Ideal     E     SI2   61.5   55.0    326  3.95  3.98  2.43\n",
      "1       0.21    Premium     E     SI1   59.8   61.0    326  3.89  3.84  2.31\n",
      "2       0.23       Good     E     VS1   56.9   65.0    327  4.05  4.07  2.31\n",
      "3       0.29    Premium     I     VS2   62.4   58.0    334  4.20  4.23  2.63\n",
      "4       0.31       Good     J     SI2   63.3   58.0    335  4.34  4.35  2.75\n",
      "...      ...        ...   ...     ...    ...    ...    ...   ...   ...   ...\n",
      "53935   0.72      Ideal     D     SI1   60.8   57.0   2757  5.75  5.76  3.50\n",
      "53936   0.72       Good     D     SI1   63.1   55.0   2757  5.69  5.75  3.61\n",
      "53937   0.70  Very Good     D     SI1   62.8   60.0   2757  5.66  5.68  3.56\n",
      "53938   0.86    Premium     H     SI2   61.0   58.0   2757  6.15  6.12  3.74\n",
      "53939   0.75      Ideal     D     SI2   62.2   55.0   2757  5.83  5.87  3.64\n",
      "\n",
      "[53940 rows x 10 columns]\n"
     ]
    }
   ],
   "source": [
    "df = pd.read_csv(\"precio_diadm.csv\")\n",
    "print(df)"
   ]
  },
  {
   "cell_type": "code",
   "execution_count": 4,
   "id": "5b30d870",
   "metadata": {},
   "outputs": [],
   "source": [
    "X=df[[\"carat\",\"depth\",\"table\",\"x\",\"y\",\"z\"]]\n",
    "y=df[\"price\"]"
   ]
  },
  {
   "cell_type": "code",
   "execution_count": 6,
   "id": "78b3df22",
   "metadata": {},
   "outputs": [],
   "source": [
    "# Entrenar el modelo\n",
    "reg = LinearRegression().fit(X, y)"
   ]
  },
  {
   "cell_type": "code",
   "execution_count": 7,
   "id": "0c6fb58f",
   "metadata": {},
   "outputs": [
    {
     "name": "stdout",
     "output_type": "stream",
     "text": [
      "R^2: 0.8592186831580986\n",
      "Coeficientes: [10686.30908063  -203.1540524   -102.44565213 -1315.6678418\n",
      "    66.32160232    41.62769701]\n",
      "Intercepto: 20849.31641304516\n"
     ]
    }
   ],
   "source": [
    "# Mostrar métricas del modelo\n",
    "print(\"R^2:\", reg.score(X, y))  # Coeficiente de determinación\n",
    "print(\"Coeficientes:\", reg.coef_)  # Pesos\n",
    "print(\"Intercepto:\", reg.intercept_)  # Sesgo"
   ]
  },
  {
   "cell_type": "code",
   "execution_count": 8,
   "id": "1d9292ce",
   "metadata": {},
   "outputs": [
    {
     "name": "stdout",
     "output_type": "stream",
     "text": [
      "Predicción: [2961.74558157]\n"
     ]
    }
   ],
   "source": [
    "# Predicción con un nuevo dato\n",
    "input_data = np.array([[0.7, 61.8, 57, 5.7, 5.71, 3.53]])\n",
    "input_df = pd.DataFrame(input_data, columns=[\"carat\", \"depth\", \"table\", \"x\", \"y\", \"z\"])\n",
    "print(\"Predicción:\", reg.predict(input_df))"
   ]
  },
  {
   "cell_type": "code",
   "execution_count": 9,
   "id": "e67d7a17",
   "metadata": {},
   "outputs": [
    {
     "name": "stdout",
     "output_type": "stream",
     "text": [
      "Valores nulos por columna:\n",
      "carat      0\n",
      "cut        0\n",
      "color      0\n",
      "clarity    0\n",
      "depth      0\n",
      "table      0\n",
      "price      0\n",
      "x          0\n",
      "y          0\n",
      "z          0\n",
      "dtype: int64\n"
     ]
    }
   ],
   "source": [
    "# Verificar si hay valores nulos (NaN)\n",
    "print(\"Valores nulos por columna:\")\n",
    "print(df.isnull().sum())"
   ]
  },
  {
   "cell_type": "code",
   "execution_count": 10,
   "id": "c8fcd0d2",
   "metadata": {},
   "outputs": [
    {
     "name": "stdout",
     "output_type": "stream",
     "text": [
      "\n",
      "Valores iguales a 0 por columna:\n",
      "carat       0\n",
      "cut         0\n",
      "color       0\n",
      "clarity     0\n",
      "depth       0\n",
      "table       0\n",
      "price       0\n",
      "x           8\n",
      "y           7\n",
      "z          20\n",
      "dtype: int64\n"
     ]
    }
   ],
   "source": [
    "\n",
    "# Verificar si hay valores iguales a 0\n",
    "print(\"\\nValores iguales a 0 por columna:\")\n",
    "print((df == 0).sum())"
   ]
  },
  {
   "cell_type": "code",
   "execution_count": 12,
   "id": "82385a6b",
   "metadata": {},
   "outputs": [
    {
     "name": "stdout",
     "output_type": "stream",
     "text": [
      "\n",
      "¿Hay valores faltantes en el dataset?\n",
      "False\n"
     ]
    }
   ],
   "source": [
    "# Verificar si hay valores faltantes totales\n",
    "print(\"\\n¿Hay valores faltantes en el dataset?\")\n",
    "print(df.isnull().values.any())"
   ]
  }
 ],
 "metadata": {
  "kernelspec": {
   "display_name": "venv",
   "language": "python",
   "name": "python3"
  },
  "language_info": {
   "codemirror_mode": {
    "name": "ipython",
    "version": 3
   },
   "file_extension": ".py",
   "mimetype": "text/x-python",
   "name": "python",
   "nbconvert_exporter": "python",
   "pygments_lexer": "ipython3",
   "version": "3.13.3"
  }
 },
 "nbformat": 4,
 "nbformat_minor": 5
}
