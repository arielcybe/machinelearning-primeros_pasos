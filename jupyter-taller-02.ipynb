{
 "cells": [
  {
   "cell_type": "code",
   "execution_count": 1,
   "id": "0477041a",
   "metadata": {},
   "outputs": [],
   "source": [
    "import pandas as pd"
   ]
  },
  {
   "cell_type": "code",
   "execution_count": 2,
   "id": "2fcc0b4f",
   "metadata": {},
   "outputs": [
    {
     "name": "stdout",
     "output_type": "stream",
     "text": [
      "#### PASO 1 #####\n",
      "Empty DataFrame\n",
      "Columns: []\n",
      "Index: []\n"
     ]
    }
   ],
   "source": [
    "print (\"#### PASO 1 #####\")\n",
    "df = pd.DataFrame()\n",
    "print (df)"
   ]
  },
  {
   "cell_type": "code",
   "execution_count": 3,
   "id": "783a7b04",
   "metadata": {},
   "outputs": [
    {
     "name": "stdout",
     "output_type": "stream",
     "text": [
      "#### PASO 2 #####\n",
      "   0\n",
      "0  5\n",
      "1  4\n",
      "2  3\n",
      "3  2\n",
      "4  1\n"
     ]
    }
   ],
   "source": [
    "print (\"#### PASO 2 #####\")\n",
    "data = [5, 4, 3, 2 ,1 ]\n",
    "df = pd.DataFrame(data)\n",
    "print (df)"
   ]
  },
  {
   "cell_type": "code",
   "execution_count": 4,
   "id": "eb6d1665",
   "metadata": {},
   "outputs": [
    {
     "name": "stdout",
     "output_type": "stream",
     "text": [
      "#### PASO 3 #####\n",
      "     Name  Age\n",
      "0    Alex   10\n",
      "1     Bob   12\n",
      "2  Clarke   13\n",
      "3    Ivan   99\n"
     ]
    }
   ],
   "source": [
    "print (\"#### PASO 3 #####\")\n",
    "data = [['Alex',10],['Bob',12],['Clarke',13], ['Ivan', 99]]\n",
    "df = pd.DataFrame(data,columns=['Name','Age'])\n",
    "print (df)"
   ]
  },
  {
   "cell_type": "code",
   "execution_count": 5,
   "id": "25da35cf",
   "metadata": {},
   "outputs": [
    {
     "name": "stdout",
     "output_type": "stream",
     "text": [
      "#### PASO 4 #####\n",
      "    Name  Age\n",
      "0    Tom   28\n",
      "1   Jack   34\n",
      "2  Steve   29\n",
      "3  Ricky   42\n"
     ]
    }
   ],
   "source": [
    "print (\"#### PASO 4 #####\")\n",
    "#Create a DataFrame from Dict of ndarrays / Lists\n",
    "data = {'Name':['Tom', 'Jack', 'Steve', 'Ricky'],'Age':[28,34,29,42]}\n",
    "df = pd.DataFrame(data)\n",
    "print (df)"
   ]
  },
  {
   "cell_type": "code",
   "execution_count": 6,
   "id": "e47308a8",
   "metadata": {},
   "outputs": [
    {
     "name": "stdout",
     "output_type": "stream",
     "text": [
      "#### PASO 5 #####\n",
      "                   Name  Age\n",
      "Primer registro     Tom   28\n",
      "Segundo registro   Jack   34\n",
      "rank3             Steve   29\n",
      "rank4             Ricky   42\n"
     ]
    }
   ],
   "source": [
    "print (\"#### PASO 5 #####\")\n",
    "data = {'Name':['Tom', 'Jack', 'Steve', 'Ricky'],'Age':[28,34,29,42]}\n",
    "df = pd.DataFrame(data, index=['Primer registro','Segundo registro','rank3','rank4'])\n",
    "print (df)"
   ]
  },
  {
   "cell_type": "code",
   "execution_count": 7,
   "id": "0e993b62",
   "metadata": {},
   "outputs": [
    {
     "name": "stdout",
     "output_type": "stream",
     "text": [
      "#### PASO 6 #####\n",
      "     a     b     c    f     d\n",
      "0  1.0   2.0   NaN  NaN   NaN\n",
      "1  5.0  10.0  20.0  NaN   NaN\n",
      "2  NaN   NaN  10.0  5.0  20.0\n"
     ]
    }
   ],
   "source": [
    "print (\"#### PASO 6 #####\")\n",
    "data = [{'a': 1, 'b': 2},{'a': 5, 'b': 10, 'c': 20},{'f': 5, 'c': 10, 'd': 20}]\n",
    "df = pd.DataFrame(data)\n",
    "print (df)"
   ]
  },
  {
   "cell_type": "code",
   "execution_count": 8,
   "id": "39262b12",
   "metadata": {},
   "outputs": [
    {
     "name": "stdout",
     "output_type": "stream",
     "text": [
      "#### PASO 7 #####\n",
      "        a   b     c\n",
      "first   1   2   NaN\n",
      "second  5  10  20.0\n"
     ]
    }
   ],
   "source": [
    "print (\"#### PASO 7 #####\")\n",
    "data = [{'a': 1, 'b': 2},{'a': 5, 'b': 10, 'c': 20}]\n",
    "df = pd.DataFrame(data, index=['first', 'second'])\n",
    "print (df)"
   ]
  },
  {
   "cell_type": "code",
   "execution_count": 9,
   "id": "366be818",
   "metadata": {},
   "outputs": [
    {
     "name": "stdout",
     "output_type": "stream",
     "text": [
      "#### PASO 8 #####\n",
      "        a   b\n",
      "first   1   2\n",
      "second  5  10\n",
      "         a   B\n",
      "primero  1 NaN\n",
      "segundo  5 NaN\n"
     ]
    }
   ],
   "source": [
    "print (\"#### PASO 8 #####\")\n",
    "#varias vistas (dataframes) desde el mismo conjunto de datos\n",
    "data = [{'a': 1, 'b': 2},{'a': 5, 'b': 10, 'c': 20}]\n",
    "df1 = pd.DataFrame(data, index=['first', 'second'], columns=['a', 'b'])\n",
    "df2 = pd.DataFrame(data, index=['primero', 'segundo'], columns=['a', 'B'])\n",
    "print (df1)\n",
    "print (df2)"
   ]
  },
  {
   "cell_type": "code",
   "execution_count": 10,
   "id": "e01c4994",
   "metadata": {},
   "outputs": [
    {
     "name": "stdout",
     "output_type": "stream",
     "text": [
      "##### recuperar una columna ######\n",
      "first     1\n",
      "second    5\n",
      "Name: a, dtype: int64\n",
      "a     5\n",
      "b    10\n",
      "Name: second, dtype: int64\n"
     ]
    }
   ],
   "source": [
    "print (\"##### recuperar una columna ######\")\n",
    "print (df1['a']) #recuperacion de columna/variable\n",
    "print (df1.iloc[1]) #recuperacion de registro/vector"
   ]
  },
  {
   "cell_type": "code",
   "execution_count": 11,
   "id": "8b870a35",
   "metadata": {},
   "outputs": [
    {
     "name": "stdout",
     "output_type": "stream",
     "text": [
      "###operacion##\n",
      "        a   b  sum\n",
      "first   1   2    3\n",
      "second  5  10   15\n",
      "### eliminacion de una columna ##\n",
      "        a   b\n",
      "first   1   2\n",
      "second  5  10\n"
     ]
    }
   ],
   "source": [
    "print (\"###operacion##\")\n",
    "df1['sum']=df1['a']+df1['b'] #adjunto al final la columna suma que es la suma de las columna a y b\n",
    "print (df1)\n",
    "print (\"### eliminacion de una columna ##\")\n",
    "del df1['sum']\n",
    "print (df1)"
   ]
  },
  {
   "cell_type": "code",
   "execution_count": 12,
   "id": "f1453530",
   "metadata": {},
   "outputs": [
    {
     "name": "stdout",
     "output_type": "stream",
     "text": [
      "### slicing ##\n",
      "         a   b   c   d\n",
      "first    1   2  34  20\n",
      "second   5  10  20  33\n",
      "third   95  12  56  78\n",
      "fourth   0  11  22  33\n",
      "fifth   10  20  30  40\n",
      "         a   b   c   d\n",
      "second   5  10  20  33\n",
      "third   95  12  56  78\n"
     ]
    }
   ],
   "source": [
    "print (\"### slicing ##\")\n",
    "data = [{'a': 1, 'b': 2, 'c': 34, 'd': 20},{'a': 5, 'b': 10, 'c': 20, 'd':33},{'a': 95, 'b': 12, 'c': 56, 'd':78} ,{'a': 00, 'b': 11, 'c': 22, 'd':33} ,{'a': 10, 'b': 20, 'c': 30, 'd':40}]\n",
    "df = pd.DataFrame(data, index=['first', 'second','third', 'fourth', 'fifth'], columns=['a', 'b', 'c', 'd'])\n",
    "print (df)\n",
    "print (df[1:3]) #slicing"
   ]
  },
  {
   "cell_type": "code",
   "execution_count": 13,
   "id": "8af87f32",
   "metadata": {},
   "outputs": [
    {
     "name": "stdout",
     "output_type": "stream",
     "text": [
      "### append ##\n",
      "         a   b   c   d\n",
      "first    1   2  34  20\n",
      "second   5  10  20  33\n",
      "third   95  12  56  78\n",
      "fourth   0  11  22  33\n",
      "fifth   10  20  30  40\n"
     ]
    }
   ],
   "source": [
    "print (\"### append ##\")\n",
    "df_aux = pd.DataFrame(data)\n",
    "#df=df.append(df_aux)\n",
    "#df=df.concat(df_aux)\n",
    "print (df)"
   ]
  },
  {
   "cell_type": "code",
   "execution_count": 27,
   "id": "60f473b3",
   "metadata": {},
   "outputs": [
    {
     "name": "stdout",
     "output_type": "stream",
     "text": [
      "### drop ##\n",
      "         a   b   c   d\n",
      "second   5  10  20  33\n",
      "third   95  12  56  78\n",
      "fourth   0  11  22  33\n",
      "fifth   10  20  30  40\n"
     ]
    }
   ],
   "source": [
    "print (\"### drop ##\")\n",
    "df = df.drop('first') #elimina el registro//vector\n",
    "print (df)"
   ]
  }
 ],
 "metadata": {
  "kernelspec": {
   "display_name": "venv",
   "language": "python",
   "name": "python3"
  },
  "language_info": {
   "codemirror_mode": {
    "name": "ipython",
    "version": 3
   },
   "file_extension": ".py",
   "mimetype": "text/x-python",
   "name": "python",
   "nbconvert_exporter": "python",
   "pygments_lexer": "ipython3",
   "version": "3.13.3"
  }
 },
 "nbformat": 4,
 "nbformat_minor": 5
}
