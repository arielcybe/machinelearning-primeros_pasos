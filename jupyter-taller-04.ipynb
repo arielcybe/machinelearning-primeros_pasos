{
 "cells": [
  {
   "cell_type": "code",
   "execution_count": 2,
   "id": "9ac6c1b4",
   "metadata": {},
   "outputs": [],
   "source": [
    "import pandas as pd\n",
    "import math\n",
    "import matplotlib.pyplot as plt"
   ]
  },
  {
   "cell_type": "code",
   "execution_count": 3,
   "id": "1d0e8e86",
   "metadata": {},
   "outputs": [
    {
     "name": "stdout",
     "output_type": "stream",
     "text": [
      "       carat        cut color clarity  depth  table  price     x     y     z\n",
      "0       0.23      Ideal     E     SI2   61.5   55.0    326  3.95  3.98  2.43\n",
      "1       0.21    Premium     E     SI1   59.8   61.0    326  3.89  3.84  2.31\n",
      "2       0.23       Good     E     VS1   56.9   65.0    327  4.05  4.07  2.31\n",
      "3       0.29    Premium     I     VS2   62.4   58.0    334  4.20  4.23  2.63\n",
      "4       0.31       Good     J     SI2   63.3   58.0    335  4.34  4.35  2.75\n",
      "...      ...        ...   ...     ...    ...    ...    ...   ...   ...   ...\n",
      "53935   0.72      Ideal     D     SI1   60.8   57.0   2757  5.75  5.76  3.50\n",
      "53936   0.72       Good     D     SI1   63.1   55.0   2757  5.69  5.75  3.61\n",
      "53937   0.70  Very Good     D     SI1   62.8   60.0   2757  5.66  5.68  3.56\n",
      "53938   0.86    Premium     H     SI2   61.0   58.0   2757  6.15  6.12  3.74\n",
      "53939   0.75      Ideal     D     SI2   62.2   55.0   2757  5.83  5.87  3.64\n",
      "\n",
      "[53940 rows x 10 columns]\n"
     ]
    }
   ],
   "source": [
    "df = pd.read_csv(\"precio_diadm.csv\")\n",
    "print(df)"
   ]
  },
  {
   "cell_type": "code",
   "execution_count": 4,
   "id": "dea0777a",
   "metadata": {},
   "outputs": [
    {
     "name": "stdout",
     "output_type": "stream",
     "text": [
      "carat       0.797940\n",
      "depth      61.749405\n",
      "table      57.457184\n",
      "price    3932.799722\n",
      "x           5.731157\n",
      "y           5.734526\n",
      "z           3.538734\n",
      "dtype: float64\n",
      "carat     0.797940\n",
      "depth    61.749405\n",
      "dtype: float64\n"
     ]
    }
   ],
   "source": [
    "#promedio // mean\n",
    "promedios = df.mean(numeric_only=True)\n",
    "print (promedios)\n",
    "print (df[['carat','depth']].mean())"
   ]
  },
  {
   "cell_type": "code",
   "execution_count": 5,
   "id": "551fc527",
   "metadata": {},
   "outputs": [
    {
     "name": "stdout",
     "output_type": "stream",
     "text": [
      "carat       0.474011\n",
      "depth       1.432621\n",
      "table       2.234491\n",
      "price    3989.439738\n",
      "x           1.121761\n",
      "y           1.142135\n",
      "z           0.705699\n",
      "dtype: float64\n",
      "carat    0.474011\n",
      "depth    1.432621\n",
      "dtype: float64\n"
     ]
    }
   ],
   "source": [
    "#desviacion standard\n",
    "standard_dev = df.std(numeric_only=True)\n",
    "print (standard_dev)\n",
    "print (df[['carat','depth']].std())"
   ]
  },
  {
   "cell_type": "code",
   "execution_count": 6,
   "id": "580c1f8a",
   "metadata": {},
   "outputs": [
    {
     "name": "stdout",
     "output_type": "stream",
     "text": [
      "carat           5.01\n",
      "cut        Very Good\n",
      "color              J\n",
      "clarity         VVS2\n",
      "depth           79.0\n",
      "table           95.0\n",
      "price          18823\n",
      "x              10.74\n",
      "y               58.9\n",
      "z               31.8\n",
      "dtype: object\n",
      "carat     5.01\n",
      "depth    79.00\n",
      "dtype: float64\n",
      "carat       0.2\n",
      "cut        Fair\n",
      "color         D\n",
      "clarity      I1\n",
      "depth      43.0\n",
      "table      43.0\n",
      "price       326\n",
      "x           0.0\n",
      "y           0.0\n",
      "z           0.0\n",
      "dtype: object\n",
      "carat     0.2\n",
      "depth    43.0\n",
      "dtype: float64\n"
     ]
    }
   ],
   "source": [
    "#max-min\n",
    "max = df.max()\n",
    "print (max)\n",
    "print (df[['carat','depth']].max())\n",
    "min = df.min()\n",
    "print (min)\n",
    "print (df[['carat','depth']].min())"
   ]
  },
  {
   "cell_type": "code",
   "execution_count": 7,
   "id": "269b4234",
   "metadata": {},
   "outputs": [
    {
     "name": "stdout",
     "output_type": "stream",
     "text": [
      "       carat   cut color clarity  depth  table  price      x      y     z\n",
      "27415   5.01  Fair     J      I1   65.5   59.0  18018  10.74  10.54  6.98\n",
      "       carat        cut color clarity  depth  table  price     x     y     z\n",
      "14       0.2    Premium     E     SI2   60.2   62.0    345  3.79  3.75  2.27\n",
      "31591    0.2    Premium     E     VS2   59.8   62.0    367  3.79  3.77  2.26\n",
      "31592    0.2    Premium     E     VS2   59.0   60.0    367  3.81  3.78  2.24\n",
      "31593    0.2    Premium     E     VS2   61.1   59.0    367  3.81  3.78  2.32\n",
      "31594    0.2    Premium     E     VS2   59.7   62.0    367  3.84  3.80  2.28\n",
      "31595    0.2      Ideal     E     VS2   59.7   55.0    367  3.86  3.84  2.30\n",
      "31596    0.2    Premium     F     VS2   62.6   59.0    367  3.73  3.71  2.33\n",
      "31597    0.2      Ideal     D     VS2   61.5   57.0    367  3.81  3.77  2.33\n",
      "31598    0.2  Very Good     E     VS2   63.4   59.0    367  3.74  3.71  2.36\n",
      "31599    0.2      Ideal     E     VS2   62.2   57.0    367  3.76  3.73  2.33\n",
      "31600    0.2    Premium     D     VS2   62.3   60.0    367  3.73  3.68  2.31\n",
      "31601    0.2    Premium     D     VS2   61.7   60.0    367  3.77  3.72  2.31\n"
     ]
    }
   ],
   "source": [
    "#La fila que corresponde al maximo/minimo\n",
    "print (df[df['carat']==df['carat'].max()])\n",
    "print (df[df['carat']==df['carat'].min()])"
   ]
  },
  {
   "cell_type": "code",
   "execution_count": 8,
   "id": "0c11e2b1",
   "metadata": {},
   "outputs": [
    {
     "name": "stdout",
     "output_type": "stream",
     "text": [
      "carat    4.304087e+04\n",
      "depth    3.330763e+06\n",
      "table    3.099240e+06\n",
      "price    2.121352e+08\n",
      "x        3.091386e+05\n",
      "y        3.093203e+05\n",
      "z        1.908793e+05\n",
      "dtype: float64\n",
      "carat      43040.87\n",
      "depth    3330762.90\n",
      "dtype: float64\n"
     ]
    }
   ],
   "source": [
    "#sumas\n",
    "sum = df.sum(numeric_only=True)\n",
    "print (sum)\n",
    "print (df[['carat','depth']].sum())"
   ]
  },
  {
   "cell_type": "code",
   "execution_count": 9,
   "id": "070c424f",
   "metadata": {},
   "outputs": [
    {
     "name": "stdout",
     "output_type": "stream",
     "text": [
      "carat       0.70\n",
      "depth      61.80\n",
      "table      57.00\n",
      "price    2401.00\n",
      "x           5.70\n",
      "y           5.71\n",
      "z           3.53\n",
      "dtype: float64\n",
      "carat     0.7\n",
      "depth    61.8\n",
      "dtype: float64\n"
     ]
    }
   ],
   "source": [
    "#medianas\n",
    "medians = df.median(numeric_only=True)\n",
    "print (medians)\n",
    "print (df[['carat','depth']].median())"
   ]
  },
  {
   "cell_type": "code",
   "execution_count": 10,
   "id": "f2284cf4",
   "metadata": {},
   "outputs": [
    {
     "name": "stdout",
     "output_type": "stream",
     "text": [
      "Coef. Variación carat: 0.5940\n",
      "Coef. Variación depth: 0.0232\n",
      "Coef. Variación table: 0.0389\n",
      "Coef. Variación price: 1.0144\n",
      "Coef. Variación x: 0.1957\n",
      "Coef. Variación y: 0.1992\n",
      "Coef. Variación z: 0.1994\n"
     ]
    }
   ],
   "source": [
    "# Coeficiente de variación (solo para columnas numéricas)\n",
    "for name, values in df.items():  # Usa .items() en lugar de .iteritems()\n",
    "    if pd.api.types.is_numeric_dtype(values):  # Filtra columnas numéricas\n",
    "        coef_variacion = values.std() / values.mean()\n",
    "        print(f\"Coef. Variación {name}: {coef_variacion:.4f}\")"
   ]
  },
  {
   "cell_type": "code",
   "execution_count": 11,
   "id": "be918bf1",
   "metadata": {},
   "outputs": [
    {
     "name": "stdout",
     "output_type": "stream",
     "text": [
      "Coef. asimetria carat: 1.1165838166905433\n",
      "Coef. asimetria depth: -0.0822894493825861\n",
      "Coef. asimetria table: 0.7968515279799216\n",
      "Coef. asimetria price: 1.618305273634832\n",
      "Coef. asimetria x: 0.3786552819309484\n",
      "Coef. asimetria y: 2.4340313362531565\n",
      "Coef. asimetria z: 1.522337887002739\n"
     ]
    },
    {
     "data": {
      "image/png": "[encoded data removed]",
      "text/plain": [
       "<Figure size 640x480 with 1 Axes>"
      ]
     },
     "metadata": {},
     "output_type": "display_data"
    }
   ],
   "source": [
    "#coeficiente de asimetria\n",
    "for name, values in df.items():\n",
    "  if pd.api.types.is_numeric_dtype(values):\n",
    "    dev_std_3 = df[name].std() * df[name].std() * df[name].std()\n",
    "    promedio = df[name].mean()\n",
    "    sum = 0\n",
    "    for value in values:\n",
    "      sum = sum + (value - promedio) * (value - promedio) * (value - promedio)\n",
    "    print (\"Coef. asimetria \" + str(name) + \": \" + str((sum/dev_std_3)/len(df.index)))\n",
    "\n",
    "df.plot(x ='price', y='depth', kind = 'scatter')\n",
    "plt.savefig(\"depth_price.png\")"
   ]
  },
  {
   "cell_type": "code",
   "execution_count": 12,
   "id": "d105338f",
   "metadata": {},
   "outputs": [
    {
     "name": "stdout",
     "output_type": "stream",
     "text": [
      "[43,46]=1\n",
      "[46,49]=0\n",
      "[49,52]=2\n",
      "[52,55]=17\n",
      "[55,58]=557\n",
      "[58,61]=11688\n",
      "[61,64]=38289\n",
      "[64,67]=1689\n",
      "[67,70]=145\n",
      "[70,73]=19\n",
      "[73,76]=1\n",
      "[76,79]=1\n",
      "       dato  frecuencia\n",
      "0   [43,46]           1\n",
      "1   [46,49]           0\n",
      "2   [49,52]           2\n",
      "3   [52,55]          17\n",
      "4   [55,58]         557\n",
      "5   [58,61]       11688\n",
      "6   [61,64]       38289\n",
      "7   [64,67]        1689\n",
      "8   [67,70]         145\n",
      "9   [70,73]          19\n",
      "10  [73,76]           1\n",
      "11  [76,79]           1\n"
     ]
    },
    {
     "data": {
      "image/png": "[encoded data removed]",
      "text/plain": [
       "<Figure size 640x480 with 1 Axes>"
      ]
     },
     "metadata": {},
     "output_type": "display_data"
    }
   ],
   "source": [
    "#regla de sturges\n",
    "max = df['depth'].max()\n",
    "min = df['depth'].min()\n",
    "r = max - min\n",
    "c= r/(1 + math.log(len(df.index))/math.log(2))\n",
    "\n",
    "max_2 = math.ceil(max)\n",
    "min_2 = math.floor(min)\n",
    "c_2 = math.ceil(c)\n",
    "\n",
    "range_df = pd.DataFrame()\n",
    "x_axis, y_axis = [], []\n",
    "\n",
    "for x in range(min_2,max_2,c_2):\n",
    "  dato = \"[\"+str(x)+\",\"+str(x+c_2)+\"]\"\n",
    "  frecuencia = df[(df['depth'] > x) & (df['depth'] < (x+c_2))].shape[0]\n",
    "  print (dato +\"=\" + str(frecuencia))\n",
    "  x_axis.append(dato)\n",
    "  y_axis.append(frecuencia)\n",
    "\n",
    "range_df['dato']=x_axis\n",
    "range_df['frecuencia']=y_axis\n",
    "\n",
    "print (range_df)\n",
    "range_df.plot(x=\"dato\", y=\"frecuencia\", kind=\"bar\", rot=5, fontsize=4)\n",
    "#plt.show()\n",
    "plt.savefig(\"depth.png\")"
   ]
  },
  {
   "cell_type": "code",
   "execution_count": 43,
   "id": "8fa27c6b",
   "metadata": {},
   "outputs": [
    {
     "name": "stdout",
     "output_type": "stream",
     "text": [
      "0.38674320080361224\n"
     ]
    }
   ],
   "source": [
    "#entropia\n",
    "# Calcular probabilidades\n",
    "range_df[\"prob\"] = range_df[\"frecuencia\"] / len(df.index)\n",
    "# Inicializar entropía\n",
    "entropia = 0\n",
    "# Calcular contribución de cada intervalo\n",
    "for index, row in range_df.iterrows():\n",
    "    if row[\"prob\"] > 0:  # ¡Filtrar probabilidades cero!\n",
    "        entropia += row[\"prob\"] * math.log(row[\"prob\"], 7)  # Base 7\n",
    "# Ajustar el signo\n",
    "entropia = -entropia\n",
    "print (entropia)"
   ]
  }
 ],
 "metadata": {
  "kernelspec": {
   "display_name": "venv",
   "language": "python",
   "name": "python3"
  },
  "language_info": {
   "codemirror_mode": {
    "name": "ipython",
    "version": 3
   },
   "file_extension": ".py",
   "mimetype": "text/x-python",
   "name": "python",
   "nbconvert_exporter": "python",
   "pygments_lexer": "ipython3",
   "version": "3.13.3"
  }
 },
 "nbformat": 4,
 "nbformat_minor": 5
}
